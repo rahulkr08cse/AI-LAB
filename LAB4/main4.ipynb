{
 "cells": [
  {
   "cell_type": "code",
   "execution_count": 179,
   "metadata": {},
   "outputs": [],
   "source": [
    "import pandas as pd\n",
    "import numpy as np\n",
    "import matplotlib.pyplot as plt"
   ]
  },
  {
   "cell_type": "code",
   "execution_count": 180,
   "metadata": {},
   "outputs": [],
   "source": [
    "df_x=pd.read_csv(\"logisticX.csv\", header=None,sep=',',names=['valueX1','valueX2'])\n",
    "df_y=pd.read_csv(\"logisticY.csv\", header=None,sep='\\t',names=['valueY'])"
   ]
  },
  {
   "cell_type": "code",
   "execution_count": 181,
   "metadata": {},
   "outputs": [
    {
     "data": {
      "text/html": [
       "<div>\n",
       "<style scoped>\n",
       "    .dataframe tbody tr th:only-of-type {\n",
       "        vertical-align: middle;\n",
       "    }\n",
       "\n",
       "    .dataframe tbody tr th {\n",
       "        vertical-align: top;\n",
       "    }\n",
       "\n",
       "    .dataframe thead th {\n",
       "        text-align: right;\n",
       "    }\n",
       "</style>\n",
       "<table border=\"1\" class=\"dataframe\">\n",
       "  <thead>\n",
       "    <tr style=\"text-align: right;\">\n",
       "      <th></th>\n",
       "      <th>valueX1</th>\n",
       "      <th>valueX2</th>\n",
       "    </tr>\n",
       "  </thead>\n",
       "  <tbody>\n",
       "    <tr>\n",
       "      <th>0</th>\n",
       "      <td>3.8915</td>\n",
       "      <td>4.2105</td>\n",
       "    </tr>\n",
       "    <tr>\n",
       "      <th>1</th>\n",
       "      <td>3.6898</td>\n",
       "      <td>6.6051</td>\n",
       "    </tr>\n",
       "    <tr>\n",
       "      <th>2</th>\n",
       "      <td>2.7763</td>\n",
       "      <td>7.5057</td>\n",
       "    </tr>\n",
       "    <tr>\n",
       "      <th>3</th>\n",
       "      <td>3.1137</td>\n",
       "      <td>5.7724</td>\n",
       "    </tr>\n",
       "    <tr>\n",
       "      <th>4</th>\n",
       "      <td>2.9251</td>\n",
       "      <td>5.4315</td>\n",
       "    </tr>\n",
       "    <tr>\n",
       "      <th>...</th>\n",
       "      <td>...</td>\n",
       "      <td>...</td>\n",
       "    </tr>\n",
       "    <tr>\n",
       "      <th>95</th>\n",
       "      <td>5.7629</td>\n",
       "      <td>4.6161</td>\n",
       "    </tr>\n",
       "    <tr>\n",
       "      <th>96</th>\n",
       "      <td>4.1817</td>\n",
       "      <td>4.0577</td>\n",
       "    </tr>\n",
       "    <tr>\n",
       "      <th>97</th>\n",
       "      <td>6.3065</td>\n",
       "      <td>2.4776</td>\n",
       "    </tr>\n",
       "    <tr>\n",
       "      <th>98</th>\n",
       "      <td>5.6043</td>\n",
       "      <td>3.3146</td>\n",
       "    </tr>\n",
       "    <tr>\n",
       "      <th>99</th>\n",
       "      <td>7.0567</td>\n",
       "      <td>4.7346</td>\n",
       "    </tr>\n",
       "  </tbody>\n",
       "</table>\n",
       "<p>100 rows × 2 columns</p>\n",
       "</div>"
      ],
      "text/plain": [
       "    valueX1  valueX2\n",
       "0    3.8915   4.2105\n",
       "1    3.6898   6.6051\n",
       "2    2.7763   7.5057\n",
       "3    3.1137   5.7724\n",
       "4    2.9251   5.4315\n",
       "..      ...      ...\n",
       "95   5.7629   4.6161\n",
       "96   4.1817   4.0577\n",
       "97   6.3065   2.4776\n",
       "98   5.6043   3.3146\n",
       "99   7.0567   4.7346\n",
       "\n",
       "[100 rows x 2 columns]"
      ]
     },
     "execution_count": 181,
     "metadata": {},
     "output_type": "execute_result"
    }
   ],
   "source": [
    "df_x"
   ]
  },
  {
   "cell_type": "code",
   "execution_count": 182,
   "metadata": {},
   "outputs": [
    {
     "data": {
      "text/html": [
       "<div>\n",
       "<style scoped>\n",
       "    .dataframe tbody tr th:only-of-type {\n",
       "        vertical-align: middle;\n",
       "    }\n",
       "\n",
       "    .dataframe tbody tr th {\n",
       "        vertical-align: top;\n",
       "    }\n",
       "\n",
       "    .dataframe thead th {\n",
       "        text-align: right;\n",
       "    }\n",
       "</style>\n",
       "<table border=\"1\" class=\"dataframe\">\n",
       "  <thead>\n",
       "    <tr style=\"text-align: right;\">\n",
       "      <th></th>\n",
       "      <th>valueY</th>\n",
       "    </tr>\n",
       "  </thead>\n",
       "  <tbody>\n",
       "    <tr>\n",
       "      <th>0</th>\n",
       "      <td>0</td>\n",
       "    </tr>\n",
       "    <tr>\n",
       "      <th>1</th>\n",
       "      <td>0</td>\n",
       "    </tr>\n",
       "    <tr>\n",
       "      <th>2</th>\n",
       "      <td>0</td>\n",
       "    </tr>\n",
       "    <tr>\n",
       "      <th>3</th>\n",
       "      <td>0</td>\n",
       "    </tr>\n",
       "    <tr>\n",
       "      <th>4</th>\n",
       "      <td>0</td>\n",
       "    </tr>\n",
       "    <tr>\n",
       "      <th>...</th>\n",
       "      <td>...</td>\n",
       "    </tr>\n",
       "    <tr>\n",
       "      <th>95</th>\n",
       "      <td>1</td>\n",
       "    </tr>\n",
       "    <tr>\n",
       "      <th>96</th>\n",
       "      <td>1</td>\n",
       "    </tr>\n",
       "    <tr>\n",
       "      <th>97</th>\n",
       "      <td>1</td>\n",
       "    </tr>\n",
       "    <tr>\n",
       "      <th>98</th>\n",
       "      <td>1</td>\n",
       "    </tr>\n",
       "    <tr>\n",
       "      <th>99</th>\n",
       "      <td>1</td>\n",
       "    </tr>\n",
       "  </tbody>\n",
       "</table>\n",
       "<p>100 rows × 1 columns</p>\n",
       "</div>"
      ],
      "text/plain": [
       "    valueY\n",
       "0        0\n",
       "1        0\n",
       "2        0\n",
       "3        0\n",
       "4        0\n",
       "..     ...\n",
       "95       1\n",
       "96       1\n",
       "97       1\n",
       "98       1\n",
       "99       1\n",
       "\n",
       "[100 rows x 1 columns]"
      ]
     },
     "execution_count": 182,
     "metadata": {},
     "output_type": "execute_result"
    }
   ],
   "source": [
    "df_y"
   ]
  },
  {
   "cell_type": "markdown",
   "metadata": {},
   "source": [
    "# Q1: Train the model with a learning rate of 0.1 until convergence"
   ]
  },
  {
   "cell_type": "code",
   "execution_count": 183,
   "metadata": {},
   "outputs": [],
   "source": [
    "def normalize(data):\n",
    "    min_val = np.min(data, axis=0)  #minimum value of each column\n",
    "    max_val = np.max(data, axis=0)  #maximum value of each column\n",
    "    return (data - min_val) / (max_val - min_val)  # Normalize each value to [0, 1]\n",
    "\n",
    "X = normalize(df_x.values)  # Normalizing input data\n",
    "y = df_y.values.flatten()\n",
    "m, n = X.shape              # number of samples(m) and features(n)"
   ]
  },
  {
   "cell_type": "code",
   "execution_count": 184,
   "metadata": {},
   "outputs": [
    {
     "data": {
      "text/plain": [
       "array([[0.35145442, 0.44790148],\n",
       "       [0.3225381 , 0.84910782],\n",
       "       [0.19157599, 1.        ],\n",
       "       [0.23994667, 0.70959202],\n",
       "       [0.21290841, 0.6524755 ],\n",
       "       [0.31968517, 0.82154645],\n",
       "       [0.20076556, 0.38140236],\n",
       "       [0.33445156, 0.62035687],\n",
       "       [0.17296747, 0.3279551 ],\n",
       "       [0.37994065, 0.73596381],\n",
       "       [0.27148653, 0.66887828],\n",
       "       [0.        , 0.7192762 ],\n",
       "       [0.32283916, 0.59204155],\n",
       "       [0.43160868, 0.35047332],\n",
       "       [0.4776282 , 0.83119712],\n",
       "       [0.32838731, 0.5540253 ],\n",
       "       [0.50846559, 0.69419452],\n",
       "       [0.39502244, 0.82395912],\n",
       "       [0.59874127, 0.7603753 ],\n",
       "       [0.3336344 , 0.52497277],\n",
       "       [0.36442877, 0.62030661],\n",
       "       [0.35813513, 0.62767865],\n",
       "       [0.37565409, 0.83071123],\n",
       "       [0.41513627, 0.88037195],\n",
       "       [0.44882657, 0.48544861],\n",
       "       [0.15336975, 0.49315573],\n",
       "       [0.1089989 , 0.685968  ],\n",
       "       [0.48770662, 0.66375136],\n",
       "       [0.43450461, 0.69783028],\n",
       "       [0.17349791, 0.48760995],\n",
       "       [0.28824567, 0.43856915],\n",
       "       [0.56158158, 0.650666  ],\n",
       "       [0.12889768, 0.87197788],\n",
       "       [0.34270927, 0.77046159],\n",
       "       [0.09599587, 0.64404792],\n",
       "       [0.32027296, 0.59951412],\n",
       "       [0.33964131, 0.47524504],\n",
       "       [0.26912104, 0.81538075],\n",
       "       [0.43107823, 0.80784117],\n",
       "       [0.27573008, 0.63610622],\n",
       "       [0.46624518, 0.72919494],\n",
       "       [0.45322782, 0.7098601 ],\n",
       "       [0.25565925, 0.82002178],\n",
       "       [0.3328459 , 0.94013571],\n",
       "       [0.32564908, 0.36798191],\n",
       "       [0.43459063, 0.61228114],\n",
       "       [0.47456023, 0.65039792],\n",
       "       [0.40968847, 0.4492251 ],\n",
       "       [0.29932763, 0.61512943],\n",
       "       [0.16767738, 0.80070369],\n",
       "       [0.47301191, 0.18781939],\n",
       "       [0.27967256, 0.32827344],\n",
       "       [0.43535045, 0.24423222],\n",
       "       [0.62342838, 0.0197202 ],\n",
       "       [0.47238112, 0.15251738],\n",
       "       [0.71843505, 0.        ],\n",
       "       [0.50177053, 0.61316914],\n",
       "       [0.61535705, 0.36950658],\n",
       "       [0.49623672, 0.42983999],\n",
       "       [0.6729603 , 0.36350842],\n",
       "       [0.34613565, 0.51706459],\n",
       "       [0.81827305, 0.58349669],\n",
       "       [0.55058564, 0.2608193 ],\n",
       "       [0.56221238, 0.16697663],\n",
       "       [0.37691569, 0.51463517],\n",
       "       [0.58182444, 0.70639189],\n",
       "       [0.57194673, 0.29201642],\n",
       "       [0.40862759, 0.20134037],\n",
       "       [0.66787092, 0.38490408],\n",
       "       [0.87157542, 0.1706794 ],\n",
       "       [0.75335828, 0.1981905 ],\n",
       "       [0.57299328, 0.44252325],\n",
       "       [0.66229409, 0.29199966],\n",
       "       [0.61287687, 0.41742481],\n",
       "       [0.64255301, 0.24445003],\n",
       "       [0.28506301, 0.42727654],\n",
       "       [0.45165083, 0.38651252],\n",
       "       [0.54115235, 0.4159169 ],\n",
       "       [0.6732757 , 0.52609533],\n",
       "       [0.63455335, 0.47549636],\n",
       "       [0.56737345, 0.07016838],\n",
       "       [0.2713575 , 0.63526849],\n",
       "       [0.37700171, 0.12021446],\n",
       "       [0.77467636, 0.03263802],\n",
       "       [0.60183791, 0.48957024],\n",
       "       [0.58456267, 0.19772137],\n",
       "       [0.53352544, 0.01062243],\n",
       "       [1.        , 0.32160509],\n",
       "       [0.48357777, 0.63773142],\n",
       "       [0.56163893, 0.4792829 ],\n",
       "       [0.65929781, 0.44530452],\n",
       "       [0.77246857, 0.14950155],\n",
       "       [0.56327326, 0.1934992 ],\n",
       "       [0.72113027, 0.48377314],\n",
       "       [0.72521612, 0.55156237],\n",
       "       [0.61974395, 0.51585826],\n",
       "       [0.39305836, 0.42230041],\n",
       "       [0.69767609, 0.15756053],\n",
       "       [0.59700658, 0.29779677],\n",
       "       [0.80522702, 0.53571249]])"
      ]
     },
     "execution_count": 184,
     "metadata": {},
     "output_type": "execute_result"
    }
   ],
   "source": [
    "X"
   ]
  },
  {
   "cell_type": "code",
   "execution_count": 185,
   "metadata": {},
   "outputs": [
    {
     "data": {
      "text/plain": [
       "array([0, 0, 0, 0, 0, 0, 0, 0, 0, 0, 0, 0, 0, 0, 0, 0, 0, 0, 0, 0, 0, 0,\n",
       "       0, 0, 0, 0, 0, 0, 0, 0, 0, 0, 0, 0, 0, 0, 0, 0, 0, 0, 0, 0, 0, 0,\n",
       "       0, 0, 0, 0, 0, 0, 1, 1, 1, 1, 1, 1, 1, 1, 1, 1, 1, 1, 1, 1, 1, 1,\n",
       "       1, 1, 1, 1, 1, 1, 1, 1, 1, 1, 1, 1, 1, 1, 1, 1, 1, 1, 1, 1, 1, 1,\n",
       "       1, 1, 1, 1, 1, 1, 1, 1, 1, 1, 1, 1], dtype=int64)"
      ]
     },
     "execution_count": 185,
     "metadata": {},
     "output_type": "execute_result"
    }
   ],
   "source": [
    "y"
   ]
  },
  {
   "cell_type": "code",
   "execution_count": 186,
   "metadata": {},
   "outputs": [
    {
     "name": "stdout",
     "output_type": "stream",
     "text": [
      "Cost after convergence: 0.3524425198604714\n",
      "Optimal theta: [ 0.31408539  3.76824158 -4.01198758]\n"
     ]
    }
   ],
   "source": [
    "#Adding a column of ones to X for the bias term\n",
    "X = np.hstack((np.ones((m, 1)), X))\n",
    "\n",
    "def sigmoid(z):\n",
    "    return 1 / (1 + np.exp(-z))\n",
    "\n",
    "def compute_cost(X, y, theta):\n",
    "    h = sigmoid(np.dot(X, theta))  # Predicted values\n",
    "    cost = -1/m * np.sum(y * np.log(h) + (1 - y) * np.log(1 - h))  # Logistic regression cost formula\n",
    "    return cost\n",
    "\n",
    "def gradient_descent(X, y, theta, alpha, iterations):\n",
    "    cost_history = []\n",
    "\n",
    "    for _ in range(iterations):\n",
    "        h = sigmoid(np.dot(X, theta))  # Predicted values\n",
    "        gradient = (1/m) * np.dot(X.T, (h - y))\n",
    "        theta -= alpha * gradient\n",
    "        cost_history.append(compute_cost(X, y, theta))\n",
    "\n",
    "    return theta, cost_history\n",
    "\n",
    "#Initialize parameters\n",
    "theta = np.zeros(n + 1)  # n+1 because we added the bias term\n",
    "\n",
    "#Training model with lr=0.1 & 1000 iterations\n",
    "alpha = 0.1\n",
    "iterations = 1000\n",
    "optimal_theta, cost_history = gradient_descent(X, y, theta, alpha, iterations)\n",
    "\n",
    "print(\"Cost after convergence:\", cost_history[-1])\n",
    "print(\"Optimal theta:\", optimal_theta)"
   ]
  },
  {
   "cell_type": "markdown",
   "metadata": {},
   "source": [
    "# Q2: Plot cost vs. iteration graph"
   ]
  },
  {
   "cell_type": "code",
   "execution_count": 187,
   "metadata": {},
   "outputs": [
    {
     "data": {
      "image/png": "[encoded data removed]",
      "text/plain": [
       "<Figure size 640x480 with 1 Axes>"
      ]
     },
     "metadata": {},
     "output_type": "display_data"
    }
   ],
   "source": [
    "#Ploting cost vs. iteration graph\n",
    "plt.figure()\n",
    "plt.plot(range(len(cost_history)), cost_history, label=\"Learning Rate = 0.1\")\n",
    "plt.xlabel(\"Iterations\")\n",
    "plt.ylabel(\"Cost\")\n",
    "plt.title(\"Cost vs. Iterations\")\n",
    "plt.grid()\n",
    "plt.legend()\n",
    "plt.show()"
   ]
  },
  {
   "cell_type": "markdown",
   "metadata": {},
   "source": [
    "# Q3: Plot the dataset and decision boundary"
   ]
  },
  {
   "cell_type": "code",
   "execution_count": 188,
   "metadata": {},
   "outputs": [
    {
     "data": {
      "image/png": "[encoded data removed]",
      "text/plain": [
       "<Figure size 640x480 with 1 Axes>"
      ]
     },
     "metadata": {},
     "output_type": "display_data"
    }
   ],
   "source": [
    "plt.figure()\n",
    "x1_min, x1_max = X[:, 1].min(), X[:, 1].max()\n",
    "x2_min, x2_max = X[:, 2].min(), X[:, 2].max()\n",
    "x1, x2 = np.meshgrid(np.linspace(x1_min, x1_max, 100), np.linspace(x2_min, x2_max, 100))\n",
    "\n",
    "# Calculating predictions\n",
    "grid = np.c_[np.ones(x1.ravel().shape), x1.ravel(), x2.ravel()]\n",
    "preds = sigmoid(np.dot(grid, optimal_theta)).reshape(x1.shape)\n",
    "\n",
    "# Ploting decision boundary\n",
    "plt.contourf(x1, x2, preds, levels=[0, 0.5, 1], colors=[\"blue\", \"orange\"], alpha=0.5, linestyles=None)\n",
    "\n",
    "plt.plot(X[y == 0, 1], X[y == 0, 2], \"b.\", label=\"Class 0\")\n",
    "plt.plot(X[y == 1, 1], X[y == 1, 2], \"r.\", label=\"Class 1\")\n",
    "\n",
    "plt.xlabel(\"X1\")\n",
    "plt.ylabel(\"X2\")\n",
    "plt.title(\"Dataset with Decision Boundary\")\n",
    "plt.legend()\n",
    "plt.show()"
   ]
  },
  {
   "cell_type": "markdown",
   "metadata": {},
   "source": [
    "\n",
    "# Q4: Compare learning rates 0.1 and 5"
   ]
  },
  {
   "cell_type": "code",
   "execution_count": 189,
   "metadata": {},
   "outputs": [
    {
     "data": {
      "image/png": "[encoded data removed]",
      "text/plain": [
       "<Figure size 640x480 with 1 Axes>"
      ]
     },
     "metadata": {},
     "output_type": "display_data"
    }
   ],
   "source": [
    "#Compare learning rates 0.1 and 5\n",
    "alpha_5 = 5\n",
    "iterations = 100\n",
    "_, cost_history_5 = gradient_descent(X, y, theta, alpha_5, iterations)\n",
    "\n",
    "plt.figure()\n",
    "plt.plot(range(iterations), cost_history[:iterations], label=\"Learning Rate = 0.1\")\n",
    "plt.plot(range(iterations), cost_history_5, label=\"Learning Rate = 5\")\n",
    "plt.xlabel(\"Iterations\")\n",
    "plt.ylabel(\"Cost\")\n",
    "plt.title(\"Cost vs. Iterations for Different Learning Rates\")\n",
    "plt.legend()\n",
    "plt.show()"
   ]
  },
  {
   "cell_type": "markdown",
   "metadata": {},
   "source": [
    "# Q5: Compute confusion matrix and metrics"
   ]
  },
  {
   "cell_type": "code",
   "execution_count": 190,
   "metadata": {},
   "outputs": [
    {
     "name": "stdout",
     "output_type": "stream",
     "text": [
      "Confusion Matrix:\n",
      "Predicted   0   1\n",
      "Actual           \n",
      "0          46   4\n",
      "1           7  43\n",
      "Accuracy: 0.89\n",
      "Precision: 0.91\n",
      "Recall: 0.86\n",
      "F1 Score: 0.89\n"
     ]
    }
   ],
   "source": [
    "#Defining a prediction function\n",
    "def predict(X, theta):\n",
    "    return (sigmoid(np.dot(X, theta)) >= 0.5).astype(int)\n",
    "\n",
    "y_pred = predict(X, optimal_theta)\n",
    "confusion_matrix = pd.crosstab(y, y_pred, rownames=[\"Actual\"], colnames=[\"Predicted\"])\n",
    "\n",
    "print(\"Confusion Matrix:\")\n",
    "print(confusion_matrix)\n",
    "\n",
    "#Calculate performance metrics\n",
    "accuracy = np.mean(y == y_pred)\n",
    "precision = confusion_matrix.loc[1, 1] / (confusion_matrix.loc[0, 1] + confusion_matrix.loc[1, 1])\n",
    "recall = confusion_matrix.loc[1, 1] / (confusion_matrix.loc[1, 0] + confusion_matrix.loc[1, 1])\n",
    "f1_score = 2 * (precision * recall) / (precision + recall)\n",
    "\n",
    "print(f\"Accuracy: {accuracy:.2f}\")\n",
    "print(f\"Precision: {precision:.2f}\")\n",
    "print(f\"Recall: {recall:.2f}\")\n",
    "print(f\"F1 Score: {f1_score:.2f}\")"
   ]
  }
 ],
 "metadata": {
  "kernelspec": {
   "display_name": "venv",
   "language": "python",
   "name": "python3"
  },
  "language_info": {
   "codemirror_mode": {
    "name": "ipython",
    "version": 3
   },
   "file_extension": ".py",
   "mimetype": "text/x-python",
   "name": "python",
   "nbconvert_exporter": "python",
   "pygments_lexer": "ipython3",
   "version": "3.11.5"
  }
 },
 "nbformat": 4,
 "nbformat_minor": 2
}
